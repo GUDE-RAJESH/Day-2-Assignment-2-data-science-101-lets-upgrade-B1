{
 "cells": [
  {
   "cell_type": "code",
   "execution_count": null,
   "metadata": {},
   "outputs": [],
   "source": [
    "# QUESTION (1) \n",
    "empty_list=[]\n",
    "print(empty_list)\n",
    "for i in range(10):\n",
    "    if i%2==0:\n",
    "        empty_list.append(i)\n",
    "        print(empty_list)\n",
    "    "
   ]
  },
  {
   "cell_type": "code",
   "execution_count": 4,
   "metadata": {},
   "outputs": [
    {
     "name": "stdout",
     "output_type": "stream",
     "text": [
      "['R', 'a', 'j', 'e', 's', 'h']\n",
      "<class 'list'>\n",
      "a\n",
      "['a', 'j', 'e', 's']\n",
      "['j', 'e', 's']\n",
      "[1111, 'a', 'j', 'e', 's', 'h']\n",
      "\n",
      "['tom', 'mike', 'jake']\n",
      "['tom', 'mike', 'jake']\n"
     ]
    },
    {
     "data": {
      "text/plain": [
       "[200, 200, 600, 400, 1000, 600, 1400, 800, 1800]"
      ]
     },
     "execution_count": 4,
     "metadata": {},
     "output_type": "execute_result"
    }
   ],
   "source": [
    "# QUESTION (2)\n",
    "#LIST COMPREHENSION\n",
    "\n",
    "#List\n",
    "str1=\"Rajesh\"\n",
    "s=list(str1)\n",
    "print(s)\n",
    "print(type(s))\n",
    "#indexing\n",
    "print(s[1])\n",
    "#slicing\n",
    "print(s[1:5])\n",
    "print(s[-4:-1])\n",
    "#changing\n",
    "s[0]=1111\n",
    "print(s)\n",
    "\n",
    "print()\n",
    "\n",
    "upper=[\"TOM\",\"MIKE\",\"JAKE\"]\n",
    "lower=[]\n",
    "for item in upper:\n",
    "    lower.append(item.lower())\n",
    "print(lower)    \n",
    "\n",
    "lower=[item.lower() for item in upper]\n",
    "print(lower)\n",
    "\n",
    "number = [1,2,3,4,5,6]\n",
    "even=[item*2 for item in number if item % 2 ==0]\n",
    "even\n",
    "\n",
    "numbers=[x*100 if x%2==0 else x*200 for x in range(1,10)]\n",
    "numbers"
   ]
  },
  {
   "cell_type": "code",
   "execution_count": 5,
   "metadata": {},
   "outputs": [
    {
     "name": "stdout",
     "output_type": "stream",
     "text": [
      "Enter a number:8\n",
      "{1: 1, 2: 4, 3: 9, 4: 16, 5: 25, 6: 36, 7: 49, 8: 64}\n"
     ]
    }
   ],
   "source": [
    "#QUESTION (3)\n",
    "\n",
    "n=int(input(\"Enter a number:\"))\n",
    "d={i:i*i for i in range(1,n+1)}\n",
    "print(d)"
   ]
  },
  {
   "cell_type": "code",
   "execution_count": null,
   "metadata": {},
   "outputs": [],
   "source": [
    "#QUESTION (4)\n",
    "import math\n",
    "x,y = 0,0\n",
    "while True:\n",
    "    step = input(\"Type in UP/DOWN/RIGHT #step number\")\n",
    "    if step == \"\":\n",
    "        break\n",
    "    else:\n",
    "        step = step.split(\" \")\n",
    "        if step[0] == \"UP\":\n",
    "            y = y + int(step[1])\n",
    "        elif step[0] == \"DOWN\":\n",
    "            y = y - int(step[1])\n",
    "        elif step[0] == \"LEFT\":\n",
    "            x = x - int(step[1])\n",
    "        elif step[0] == \"RIGHT\":\n",
    "            x = x + int(step[1])\n",
    "c = math.sqrt(x**2 + y**2)\n",
    "print(\"Distance:\",c)"
   ]
  },
  {
   "cell_type": "code",
   "execution_count": null,
   "metadata": {},
   "outputs": [],
   "source": []
  }
 ],
 "metadata": {
  "kernelspec": {
   "display_name": "Python 3",
   "language": "python",
   "name": "python3"
  },
  "language_info": {
   "codemirror_mode": {
    "name": "ipython",
    "version": 3
   },
   "file_extension": ".py",
   "mimetype": "text/x-python",
   "name": "python",
   "nbconvert_exporter": "python",
   "pygments_lexer": "ipython3",
   "version": "3.8.3"
  }
 },
 "nbformat": 4,
 "nbformat_minor": 4
}
